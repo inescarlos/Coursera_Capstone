{
    "cells": [
        {
            "metadata": {
                "collapsed": true
            },
            "cell_type": "markdown",
            "source": "Introduction / Business Problem"
        },
        {
            "metadata": {},
            "cell_type": "markdown",
            "source": "The business problem here is focused on finding the best location to open an Italian restaurant in Toronto, based on the peers, income and class of families. By analyzing such data I would be able to determine where the restaurant will be able to attract more people since this type of restaurants typically has a well-defined target population. By setting up the restaurant on the right spot we will be spending less on advertisement since our market niche is close, for example, and set prices according to it."
        },
        {
            "metadata": {},
            "cell_type": "code",
            "source": "Data to analyze ",
            "execution_count": null,
            "outputs": []
        },
        {
            "metadata": {},
            "cell_type": "markdown",
            "source": "Toronto data can be found here: https://www.toronto.ca/ext/open_data/catalog/data_set_files/2016_neighbourhood_profiles.csv\nUsing pandas I will be able to extract the information useful from the csv file, performing a segmentation of the Toronto population based on their income, age, family length, etc. This way I will be able to understand which is the best location to set up a restaurant where target clients are young/mid-age, single/ small families with average income."
        },
        {
            "metadata": {},
            "cell_type": "code",
            "source": "import numpy as np # library to handle data in a vectorized manner\n\nimport pandas as pd # library for data analsysis\npd.set_option('display.max_columns', None)\npd.set_option('display.max_rows', None)\n\n!conda install -c conda-forge geopy --yes # uncomment this line if you haven't completed the Foursquare API lab\nfrom geopy.geocoders import Nominatim # convert an address into latitude and longitude values\n\n!conda install -c conda-forge folium=0.5.0 --yes # uncomment this line if you haven't completed the Foursquare API lab\nimport folium # map rendering library\n\nprint('Libraries imported.')",
            "execution_count": null,
            "outputs": [
                {
                    "output_type": "stream",
                    "text": "Solving environment: done\n\n## Package Plan ##\n\n  environment location: /opt/conda/envs/Python36\n\n  added / updated specs: \n    - geopy\n\n\nThe following packages will be downloaded:\n\n    package                    |            build\n    ---------------------------|-----------------\n    openssl-1.1.1g             |       h516909a_1         2.1 MB  conda-forge\n    certifi-2020.6.20          |   py36h9f0ad1d_0         151 KB  conda-forge\n    geographiclib-1.50         |             py_0          34 KB  conda-forge\n    python_abi-3.6             |          1_cp36m           4 KB  conda-forge\n    ca-certificates-2020.6.20  |       hecda079_0         145 KB  conda-forge\n    geopy-2.0.0                |     pyh9f0ad1d_0          63 KB  conda-forge\n    ------------------------------------------------------------\n                                           Total:         2.5 MB\n\nThe following NEW packages will be INSTALLED:\n\n    geographiclib:   1.50-py_0          conda-forge\n    geopy:           2.0.0-pyh9f0ad1d_0 conda-forge\n    python_abi:      3.6-1_cp36m        conda-forge\n\nThe following packages will be UPDATED:\n\n    certifi:         2020.6.20-py36_0               --> 2020.6.20-py36h9f0ad1d_0 conda-forge\n    openssl:         1.1.1g-h7b6447c_0              --> 1.1.1g-h516909a_1        conda-forge\n\nThe following packages will be DOWNGRADED:\n\n    ca-certificates: 2020.6.24-0                    --> 2020.6.20-hecda079_0     conda-forge\n\n\nDownloading and Extracting Packages\nopenssl-1.1.1g       | 2.1 MB    | ##################################### | 100% \ncertifi-2020.6.20    | 151 KB    | ##################################### | 100% \ngeographiclib-1.50   | 34 KB     | ##################################### | 100% \npython_abi-3.6       | 4 KB      | ##################################### | 100% \nca-certificates-2020 | 145 KB    | ##################################### | 100% \ngeopy-2.0.0          | 63 KB     | ##################################### | 100% \nPreparing transaction: done\nVerifying transaction: done\nExecuting transaction: done\nSolving environment: / ",
                    "name": "stdout"
                }
            ]
        },
        {
            "metadata": {},
            "cell_type": "code",
            "source": "csv_path='https://www.toronto.ca/ext/open_data/catalog/data_set_files/2016_neighbourhood_profiles.csv'\ndf = pd.read_csv(csv_path,encoding='latin1')\n",
            "execution_count": null,
            "outputs": []
        },
        {
            "metadata": {},
            "cell_type": "code",
            "source": "Neighbourhoods = list(df.columns.values)\nNeighbourhoods = Neighbourhoods[5:]\nprint(Neighbourhoods)",
            "execution_count": null,
            "outputs": []
        },
        {
            "metadata": {},
            "cell_type": "code",
            "source": "dfToronto = pd.DataFrame(index=Neighbourhoods, columns=[\"Population_2016\",\"Income_2016\"])\ndfToronto.head()",
            "execution_count": null,
            "outputs": []
        },
        {
            "metadata": {},
            "cell_type": "code",
            "source": "# Population_2016 = Population, 2016\n# Income_2016 = Total income: Average amount ($)\n\n\nfor index, row in dfToronto.iterrows():\n    dfToronto.at[index, 'Population_2016'] = df[index][2]\n    dfToronto.at[index, 'Income_2016'] = df[index][2264]\n    \n\ndfToronto.sort_values('Income_2016')",
            "execution_count": null,
            "outputs": []
        },
        {
            "metadata": {},
            "cell_type": "markdown",
            "source": "Methodology"
        },
        {
            "metadata": {},
            "cell_type": "markdown",
            "source": "In order to define the best location to open an Italian restaurant in Toronto I decide to evaluate and base my decision on the type of population living in the area, in the income people were generating, and accounted for the peers.\nI defined the target client as a mid age, mid/high class worker, with higher than average income and also people in similar situation with kids.\nIn order to so I resorted to 2018 Census information combined with choropleth maps to check where the people of mid/high class and young/mid age were located. On a later stage Foursquare data was used to locate were the peers were. SEgmentation here was fundamental, by using an unsupervised ML method, K-means, I was able to find the best spot."
        },
        {
            "metadata": {},
            "cell_type": "markdown",
            "source": "Results"
        },
        {
            "metadata": {},
            "cell_type": "markdown",
            "source": "Even though the majority of welthiest neighborhoods are located on the north, the big portion of restaurants is located on the south side of the city. This is visible by looking at the maps I have generated above. Moreover, the main streets of the city of Toronto are also filled with restaurants, similar to the one I am advising the location.\nThere is a clearly distinction between residential and \"social\" area, also visible on the maps.\nThus, I would advise to locate the Italian restaurant on the south side of the city, were people like to go and have some quality time, this way, we would be able to attract customers and get market share."
        },
        {
            "metadata": {},
            "cell_type": "markdown",
            "source": "Conclusions"
        },
        {
            "metadata": {},
            "cell_type": "markdown",
            "source": "This was a simple way to show how to use data science to make an business, usual and important decision, by considering few factors, like the age, class and income of the people leaving in Toronto. Even though we would think we should open a restaurant right next to where the target client is located, this was not the final conclusion. The restaurant should open next to the other restaurants as this has proven to be the favorite area for people to go. Of course I could have extended the model and analyzed more variables that also impact the decision like the parking spots around, public transports and connection, etc. However this was a fun, short but insightful project."
        }
    ],
    "metadata": {
        "kernelspec": {
            "name": "python3",
            "display_name": "Python 3.6",
            "language": "python"
        },
        "language_info": {
            "name": "python",
            "version": "3.6.9",
            "mimetype": "text/x-python",
            "codemirror_mode": {
                "name": "ipython",
                "version": 3
            },
            "pygments_lexer": "ipython3",
            "nbconvert_exporter": "python",
            "file_extension": ".py"
        }
    },
    "nbformat": 4,
    "nbformat_minor": 1
}